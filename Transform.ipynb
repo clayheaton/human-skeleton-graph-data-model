{
 "cells": [
  {
   "cell_type": "code",
   "execution_count": 1,
   "id": "institutional-gazette",
   "metadata": {},
   "outputs": [],
   "source": [
    "import csv\n",
    "import json\n",
    "\n",
    "f1 = \"bones.csv\"\n",
    "f2 = \"regions.csv\""
   ]
  },
  {
   "cell_type": "code",
   "execution_count": 2,
   "id": "taken-bulgaria",
   "metadata": {},
   "outputs": [],
   "source": [
    "bones_data = []\n",
    "with open(f1, 'r', encoding='utf-8-sig') as csvfile:\n",
    "    reader = csv.reader(csvfile)\n",
    "    header = next(reader)\n",
    "    for line in reader:\n",
    "        d = dict(zip(header, line))\n",
    "        bones_data.append(d)\n",
    "        \n",
    "regions_data = []\n",
    "with open(f2, 'r', encoding='utf-8-sig') as csvfile:\n",
    "    reader = csv.reader(csvfile)\n",
    "    header = next(reader)\n",
    "    for line in reader:\n",
    "        d = dict(zip(header, line))\n",
    "        regions_data.append(d)"
   ]
  },
  {
   "cell_type": "code",
   "execution_count": 3,
   "id": "whole-anchor",
   "metadata": {},
   "outputs": [],
   "source": [
    "ds = ['body_regions','proximal_bones', 'distal_bones', 'adjacent_bones']\n",
    "for d in bones_data:\n",
    "    for k in ds:\n",
    "        if d[k] == '':\n",
    "            d[k] = []\n",
    "        else:\n",
    "            d[k] = d[k].split(',')"
   ]
  },
  {
   "cell_type": "code",
   "execution_count": 4,
   "id": "selected-certification",
   "metadata": {},
   "outputs": [
    {
     "data": {
      "text/plain": [
       "{'key': 'kHand_IntermediatePhalanx05Right',\n",
       " 'id_number': '131',\n",
       " 'body_regions': ['kRegion_Hand', 'kRegion_HandRight'],\n",
       " 'bone_name': 'Phalanx 5',\n",
       " 'side': 'right',\n",
       " 'position': 'Intermediate',\n",
       " 'readable_name': 'Right Intermediate Phalanx 5',\n",
       " 'alternate_name': 'Little Finger',\n",
       " 'proximal_bones': ['kHand_ProximalPhalanx05Right'],\n",
       " 'distal_bones': ['kHand_DistalPhalanx05Right'],\n",
       " 'adjacent_bones': []}"
      ]
     },
     "execution_count": 4,
     "metadata": {},
     "output_type": "execute_result"
    }
   ],
   "source": [
    "bones_data[130]"
   ]
  },
  {
   "cell_type": "code",
   "execution_count": 5,
   "id": "median-aquatic",
   "metadata": {},
   "outputs": [],
   "source": [
    "rds = ['adjacent_regions', 'human_skeleton']\n",
    "for rd in regions_data:\n",
    "    for k in rds:\n",
    "        if rd[k] == '':\n",
    "            rd[k] = []\n",
    "        else:\n",
    "            rd[k] = rd[k].split(',')"
   ]
  },
  {
   "cell_type": "code",
   "execution_count": 6,
   "id": "classified-vault",
   "metadata": {},
   "outputs": [
    {
     "data": {
      "text/plain": [
       "{'key': 'kRegion_Neck',\n",
       " 'id_number': '1001',\n",
       " 'region_name': 'Neck',\n",
       " 'region_type': 'region',\n",
       " 'side': '',\n",
       " 'adjacent_regions': ['kRegion_Spine',\n",
       "  'kRegion_Head',\n",
       "  'kRegion_Chest',\n",
       "  'kRegion_Skull',\n",
       "  'kRegion_Face'],\n",
       " 'human_skeleton': ['kThroat_Hyoid',\n",
       "  'kVertebral_CervicalVertebrae01',\n",
       "  'kVertebral_CervicalVertebrae02',\n",
       "  'kVertebral_CervicalVertebrae03',\n",
       "  'kVertebral_CervicalVertebrae04',\n",
       "  'kVertebral_CervicalVertebrae05',\n",
       "  'kVertebral_CervicalVertebrae06',\n",
       "  'kVertebral_CervicalVertebrae07']}"
      ]
     },
     "execution_count": 6,
     "metadata": {},
     "output_type": "execute_result"
    }
   ],
   "source": [
    "regions_data[0]"
   ]
  },
  {
   "cell_type": "code",
   "execution_count": 7,
   "id": "flying-trigger",
   "metadata": {},
   "outputs": [],
   "source": [
    "nodes = bones_data + regions_data"
   ]
  },
  {
   "cell_type": "code",
   "execution_count": 8,
   "id": "warming-plaintiff",
   "metadata": {},
   "outputs": [],
   "source": [
    "keys = set()\n",
    "for n in nodes:\n",
    "    for k in n.keys():\n",
    "        keys.add(k)\n",
    "keys = list(keys)"
   ]
  },
  {
   "cell_type": "code",
   "execution_count": 9,
   "id": "unable-madrid",
   "metadata": {},
   "outputs": [],
   "source": [
    "fixed_nodes = []\n",
    "for n in nodes:\n",
    "    o = {}\n",
    "    for k in keys:\n",
    "        if k in n.keys():\n",
    "            o[k] = n[k]\n",
    "        else:\n",
    "            o[k] = None\n",
    "    fixed_nodes.append(o)"
   ]
  },
  {
   "cell_type": "code",
   "execution_count": 10,
   "id": "empty-pasta",
   "metadata": {},
   "outputs": [],
   "source": [
    "edge_keys = {\n",
    "    'proximal_bones':   'distal_to',\n",
    "    'adjacent_bones':   'adjacent_to',\n",
    "    'distal_bones':     'proximal_to',\n",
    "    'body_regions':     'part_of',\n",
    "    'adjacent_regions': 'adjacent_to',\n",
    "    'human_skeleton':   'includes'\n",
    "}"
   ]
  },
  {
   "cell_type": "code",
   "execution_count": 11,
   "id": "infinite-lightning",
   "metadata": {},
   "outputs": [],
   "source": [
    "lookup = {}\n",
    "for n in nodes:\n",
    "    lookup[n['key']] = n"
   ]
  },
  {
   "cell_type": "code",
   "execution_count": 12,
   "id": "flush-furniture",
   "metadata": {},
   "outputs": [],
   "source": [
    "final_data = {\n",
    "    \"nodes\":[],\n",
    "    \"edges\":[]\n",
    "}"
   ]
  },
  {
   "cell_type": "code",
   "execution_count": 13,
   "id": "greenhouse-denial",
   "metadata": {},
   "outputs": [],
   "source": [
    "for n in nodes:\n",
    "    fn = {}\n",
    "    for k in n.keys():\n",
    "        if k not in edge_keys.keys():\n",
    "            if k == 'id_number':\n",
    "                fn[k] = int(n[k])\n",
    "            else:\n",
    "                fn[k] = n[k]\n",
    "        else:\n",
    "            # dealing with edges\n",
    "            for target in n[k]:\n",
    "                e = {\n",
    "                    \"edge_type\": edge_keys[k],\n",
    "                    \"source\": n['key'],\n",
    "                    \"dest\": target\n",
    "                }\n",
    "                final_data['edges'].append(e)\n",
    "    final_data['nodes'].append(fn)\n",
    "                "
   ]
  },
  {
   "cell_type": "code",
   "execution_count": 15,
   "id": "persistent-concern",
   "metadata": {},
   "outputs": [
    {
     "data": {
      "text/plain": [
       "[{'key': 'kHand_DistalPhalanx02Right',\n",
       "  'id_number': 141,\n",
       "  'bone_name': 'Phalanx 2',\n",
       "  'side': 'right',\n",
       "  'position': 'Distal',\n",
       "  'readable_name': 'Right Distal Phalanx 2',\n",
       "  'alternate_name': 'Index Finger'},\n",
       " {'key': 'kHand_DistalPhalanx03Right',\n",
       "  'id_number': 142,\n",
       "  'bone_name': 'Phalanx 3',\n",
       "  'side': 'right',\n",
       "  'position': 'Distal',\n",
       "  'readable_name': 'Right Distal Phalanx 3',\n",
       "  'alternate_name': 'Middle Finger'},\n",
       " {'key': 'kHand_DistalPhalanx04Right',\n",
       "  'id_number': 143,\n",
       "  'bone_name': 'Phalanx 4',\n",
       "  'side': 'right',\n",
       "  'position': 'Distal',\n",
       "  'readable_name': 'Right Distal Phalanx 4',\n",
       "  'alternate_name': 'Ring Finger'},\n",
       " {'key': 'kHand_DistalPhalanx05Right',\n",
       "  'id_number': 144,\n",
       "  'bone_name': 'Phalanx 5',\n",
       "  'side': 'right',\n",
       "  'position': 'Distal',\n",
       "  'readable_name': 'Right Distal Phalanx 5',\n",
       "  'alternate_name': 'Little Finger'},\n",
       " {'key': 'kPelvis_InnominateBoneLeft',\n",
       "  'id_number': 145,\n",
       "  'bone_name': 'Innominate',\n",
       "  'side': 'left',\n",
       "  'position': '',\n",
       "  'readable_name': 'Left Innominate Bone',\n",
       "  'alternate_name': ''}]"
      ]
     },
     "execution_count": 15,
     "metadata": {},
     "output_type": "execute_result"
    }
   ],
   "source": [
    "final_data['nodes'][140:145]"
   ]
  },
  {
   "cell_type": "code",
   "execution_count": 19,
   "id": "dramatic-trinidad",
   "metadata": {},
   "outputs": [],
   "source": [
    "with open('skeleton.json','w') as output:\n",
    "    json.dump(final_data, output)"
   ]
  },
  {
   "cell_type": "code",
   "execution_count": null,
   "id": "southwest-exercise",
   "metadata": {},
   "outputs": [],
   "source": []
  }
 ],
 "metadata": {
  "kernelspec": {
   "display_name": "Python 3",
   "language": "python",
   "name": "python3"
  },
  "language_info": {
   "codemirror_mode": {
    "name": "ipython",
    "version": 3
   },
   "file_extension": ".py",
   "mimetype": "text/x-python",
   "name": "python",
   "nbconvert_exporter": "python",
   "pygments_lexer": "ipython3",
   "version": "3.9.1"
  }
 },
 "nbformat": 4,
 "nbformat_minor": 5
}
