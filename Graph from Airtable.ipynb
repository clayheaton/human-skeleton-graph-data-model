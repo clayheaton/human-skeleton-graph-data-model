{
 "cells": [
  {
   "cell_type": "code",
   "execution_count": 1,
   "metadata": {},
   "outputs": [],
   "source": [
    "import requests\n",
    "import networkx\n",
    "from time import sleep"
   ]
  },
  {
   "cell_type": "code",
   "execution_count": 2,
   "metadata": {},
   "outputs": [],
   "source": [
    "AIRTABLE_KEY = ''"
   ]
  },
  {
   "cell_type": "code",
   "execution_count": 3,
   "metadata": {},
   "outputs": [],
   "source": [
    "headers = {'Authorization': 'Bearer ' + AIRTABLE_KEY}\n",
    "url = 'https://api.airtable.com/v0/appHwGHSloSDg4ukP/human_skeleton'\n",
    "bones_data = {'records':[]}"
   ]
  },
  {
   "cell_type": "code",
   "execution_count": 4,
   "metadata": {},
   "outputs": [
    {
     "name": "stdout",
     "output_type": "stream",
     "text": [
      "206\n"
     ]
    }
   ],
   "source": [
    "def get_bone_data():\n",
    "    all_responses = []\n",
    "    response = requests.get(url, headers=headers)\n",
    "    all_responses.append(response.json())\n",
    "    \n",
    "    while 'offset' in response.json():\n",
    "        sleep(0.5)\n",
    "        params = {'offset':response.json()['offset']}\n",
    "        response = requests.get(url, headers=headers, params=params)\n",
    "        all_responses.append(response.json())\n",
    "        \n",
    "    for recset in all_responses:\n",
    "        bones_data['records'] = bones_data['records'] + recset['records']\n",
    "        \n",
    "get_bone_data()\n",
    "print(len(bones_data['records']))"
   ]
  },
  {
   "cell_type": "code",
   "execution_count": 5,
   "metadata": {},
   "outputs": [
    {
     "name": "stdout",
     "output_type": "stream",
     "text": [
      "28\n"
     ]
    }
   ],
   "source": [
    "url = 'https://api.airtable.com/v0/appHwGHSloSDg4ukP/body_regions'\n",
    "response = requests.get(url, headers=headers)\n",
    "region_data = response.json()\n",
    "print(len(region_data['records']))"
   ]
  },
  {
   "cell_type": "code",
   "execution_count": 6,
   "metadata": {},
   "outputs": [],
   "source": [
    "region_lookup = {}\n",
    "\n",
    "for r in region_data['records']:\n",
    "    rec = {\n",
    "        'key': r['fields']['key'],\n",
    "        'id_number': r['fields']['id_number'],\n",
    "        'name': r['fields']['region_name'],\n",
    "        'node_type': r['fields']['region_type'],\n",
    "        'temp_adj_regions': r['fields']['adjacent_regions'],\n",
    "        'adjacent_regions': []\n",
    "    }\n",
    "    if 'side' in r['fields'].keys():\n",
    "        rec['side'] = r['fields']['side']\n",
    "        \n",
    "    region_lookup[r['id']] = rec\n",
    "     \n",
    "for k,v in region_lookup.items():\n",
    "    for trid in v['temp_adj_regions']:\n",
    "        region_lookup[k]['adjacent_regions'].append(region_lookup[trid]['id_number'])\n",
    "    del v['temp_adj_regions']\n",
    "    \n",
    "region_node_table = {}\n",
    "\n",
    "for k, v in region_lookup.items():\n",
    "    region_node_table[v['id_number']] = v"
   ]
  },
  {
   "cell_type": "code",
   "execution_count": 7,
   "metadata": {},
   "outputs": [],
   "source": [
    "bone_lookup = {}\n",
    "\n",
    "for r in bones_data['records']:\n",
    "    rec = {\n",
    "        'id_number': r['fields']['id_number'],\n",
    "        'bone_name': r['fields']['bone_name'],\n",
    "        'readable_name': r['fields']['readable_name'],\n",
    "        'key': r['fields']['key'],\n",
    "        'regions_temp': r['fields']['body_regions'],\n",
    "        'body_regions': [],\n",
    "        'temp_proximal': [],\n",
    "        'temp_distal': [],\n",
    "        'temp_adjacent': [],\n",
    "        'proximal_bones': [],\n",
    "        'distal_bones': [],\n",
    "        'adjacent_bones': []\n",
    "    }\n",
    "    \n",
    "    for br in rec['regions_temp']:\n",
    "        rec['body_regions'].append(region_lookup[br]['id_number'])\n",
    "        \n",
    "    del rec['regions_temp']\n",
    "    \n",
    "    for k in ['side', 'alternate_name']:\n",
    "        if k in r['fields'].keys():\n",
    "            rec[k] = r['fields'][k]\n",
    "    \n",
    "    if 'proximal_bones' in r['fields'].keys():\n",
    "        for b in r['fields']['proximal_bones']:\n",
    "            rec['temp_proximal'].append(b)\n",
    "    \n",
    "    if 'distal_bones' in r['fields'].keys():\n",
    "        for b in r['fields']['distal_bones']:\n",
    "            rec['temp_distal'].append(b)\n",
    "            \n",
    "    if 'adjacent_bones' in r['fields'].keys():\n",
    "        for b in r['fields']['adjacent_bones']:\n",
    "            rec['temp_adjacent'].append(b)\n",
    "    \n",
    "    bone_lookup[r['id']] = rec\n",
    "    \n",
    "for k, v in bone_lookup.items():\n",
    "    for b in v['temp_proximal']:\n",
    "        v['proximal_bones'].append(bone_lookup[b]['id_number'])\n",
    "    for b in v['temp_distal']:\n",
    "        v['distal_bones'].append(bone_lookup[b]['id_number'])\n",
    "    for b in v['temp_adjacent']:\n",
    "        v['adjacent_bones'].append(bone_lookup[b]['id_number'])\n",
    "        \n",
    "for k, v in bone_lookup.items():\n",
    "    del v['temp_proximal']\n",
    "    del v['temp_distal']\n",
    "    del v['temp_adjacent']"
   ]
  },
  {
   "cell_type": "code",
   "execution_count": 8,
   "metadata": {},
   "outputs": [],
   "source": [
    "bone_nodes = {}\n",
    "for k,v in bone_lookup.items():\n",
    "    bone_nodes[v['id_number']] = v"
   ]
  },
  {
   "cell_type": "markdown",
   "metadata": {},
   "source": [
    "### Create a graph"
   ]
  },
  {
   "cell_type": "code",
   "execution_count": 9,
   "metadata": {},
   "outputs": [],
   "source": [
    "skeleton = networkx.DiGraph()"
   ]
  },
  {
   "cell_type": "code",
   "execution_count": 10,
   "metadata": {},
   "outputs": [],
   "source": [
    "# Add regions\n",
    "for k,v in region_node_table.items():\n",
    "    tup = (k,{\n",
    "        \"name\": v['name'],\n",
    "        \"node_type\": v['node_type']\n",
    "    })\n",
    "    if \"side\" in v.keys():\n",
    "        tup[1][\"side\"] = v[\"side\"]\n",
    "    skeleton.add_node(tup[0], tup[1])"
   ]
  },
  {
   "cell_type": "code",
   "execution_count": 11,
   "metadata": {},
   "outputs": [],
   "source": [
    "# Add edges between regions\n",
    "for k, v in region_node_table.items():\n",
    "    for n in v['adjacent_regions']:\n",
    "        skeleton.add_edge(k, n, edge_type=\"adjacent\")"
   ]
  },
  {
   "cell_type": "code",
   "execution_count": 12,
   "metadata": {},
   "outputs": [],
   "source": [
    "for k, v in bone_nodes.items():\n",
    "    tup = (k, {\n",
    "        \"name\": v['bone_name'],\n",
    "        \"node_type\": \"bone\"\n",
    "    })\n",
    "    \n",
    "    for key in [\"readable_name\", \"alternate_name\", \"position\", \"side\"]:\n",
    "        if key in v.keys():\n",
    "            tup[1][key] = v[key]\n",
    "            \n",
    "    skeleton.add_node(tup[0], tup[1])"
   ]
  },
  {
   "cell_type": "code",
   "execution_count": 13,
   "metadata": {},
   "outputs": [],
   "source": [
    "for k, v in bone_nodes.items():\n",
    "    # other bones\n",
    "    if 'proximal_bones' in v.keys():\n",
    "        for n in v['proximal_bones']:\n",
    "            skeleton.add_edge(k, n, edge_type=\"proximal\")\n",
    "    if 'distal_bones' in v.keys():\n",
    "        for n in v['distal_bones']:\n",
    "            skeleton.add_edge(k, n, edge_type=\"distal\")\n",
    "    if 'adjacent_bones' in v.keys():\n",
    "        for n in v['adjacent_bones']:\n",
    "            skeleton.add_edge(k, n, edge_type=\"adjacent\")\n",
    "            \n",
    "    # body regions\n",
    "    for n in v['body_regions']:\n",
    "        skeleton.add_edge(k, n, edge_type=\"region\")\n",
    "        skeleton.add_edge(n, k, edge_type=\"bone\")"
   ]
  },
  {
   "cell_type": "markdown",
   "metadata": {},
   "source": [
    "## Export data\n",
    "\n",
    "From the docs: https://networkx.github.io/documentation/latest/reference/readwrite/json_graph.html"
   ]
  },
  {
   "cell_type": "code",
   "execution_count": 14,
   "metadata": {},
   "outputs": [],
   "source": [
    "from networkx.readwrite import json_graph\n",
    "import json"
   ]
  },
  {
   "cell_type": "code",
   "execution_count": 15,
   "metadata": {},
   "outputs": [],
   "source": [
    "d = json_graph.node_link_data(skeleton)"
   ]
  },
  {
   "cell_type": "code",
   "execution_count": 17,
   "metadata": {},
   "outputs": [],
   "source": [
    "with open(\"skeleton_directed_node_link_graph.json\", \"w\") as f:\n",
    "    f.write(json.dumps(d))"
   ]
  },
  {
   "cell_type": "code",
   "execution_count": 18,
   "metadata": {},
   "outputs": [],
   "source": [
    "# G = skeleton.to_undirected()"
   ]
  },
  {
   "cell_type": "code",
   "execution_count": 19,
   "metadata": {},
   "outputs": [],
   "source": [
    "# gout = json_graph.node_link_data(G)"
   ]
  },
  {
   "cell_type": "code",
   "execution_count": 20,
   "metadata": {},
   "outputs": [],
   "source": [
    "# with open(\"skeleton_undirected_node_link_graph.json\", \"w\") as f:\n",
    "#     f.write(json.dumps(gout))"
   ]
  }
 ],
 "metadata": {
  "kernelspec": {
   "display_name": "Python 3",
   "language": "python",
   "name": "python3"
  },
  "language_info": {
   "codemirror_mode": {
    "name": "ipython",
    "version": 3
   },
   "file_extension": ".py",
   "mimetype": "text/x-python",
   "name": "python",
   "nbconvert_exporter": "python",
   "pygments_lexer": "ipython3",
   "version": "3.6.5"
  }
 },
 "nbformat": 4,
 "nbformat_minor": 2
}
